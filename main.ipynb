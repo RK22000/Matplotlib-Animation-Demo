{
 "cells": [
  {
   "cell_type": "markdown",
   "metadata": {},
   "source": [
    "# Animating [Worldwide Population Data](https://www.kaggle.com/datasets/shivd24coder/worldwide-population-data)"
   ]
  },
  {
   "cell_type": "code",
   "execution_count": 1,
   "metadata": {},
   "outputs": [],
   "source": [
    "%matplotlib qt\n",
    "import matplotlib.pyplot as plt\n",
    "import seaborn as sns\n",
    "import matplotlib.animation as anime\n",
    "import pandas as pd\n",
    "import numpy as np"
   ]
  },
  {
   "cell_type": "code",
   "execution_count": 2,
   "metadata": {},
   "outputs": [
    {
     "name": "stderr",
     "output_type": "stream",
     "text": [
      "C:\\Users\\rahul\\AppData\\Local\\Temp\\ipykernel_12548\\3093991250.py:1: DtypeWarning: Columns (2) have mixed types. Specify dtype option on import or set low_memory=False.\n",
      "  df = pd.read_csv('data/WPP2022_Demographic_Indicators_Medium.csv')\n"
     ]
    }
   ],
   "source": [
    "df = pd.read_csv('data/WPP2022_Demographic_Indicators_Medium.csv')"
   ]
  },
  {
   "cell_type": "code",
   "execution_count": 3,
   "metadata": {},
   "outputs": [
    {
     "data": {
      "text/plain": [
       "Index(['SortOrder', 'LocID', 'Notes', 'ISO3_code', 'ISO2_code', 'SDMX_code',\n",
       "       'LocTypeID', 'LocTypeName', 'ParentID', 'Location', 'VarID', 'Variant',\n",
       "       'Time', 'TPopulation1Jan', 'TPopulation1July', 'TPopulationMale1July',\n",
       "       'TPopulationFemale1July', 'PopDensity', 'PopSexRatio', 'MedianAgePop',\n",
       "       'NatChange', 'NatChangeRT', 'PopChange', 'PopGrowthRate',\n",
       "       'DoublingTime', 'Births', 'Births1519', 'CBR', 'TFR', 'NRR', 'MAC',\n",
       "       'SRB', 'Deaths', 'DeathsMale', 'DeathsFemale', 'CDR', 'LEx', 'LExMale',\n",
       "       'LExFemale', 'LE15', 'LE15Male', 'LE15Female', 'LE65', 'LE65Male',\n",
       "       'LE65Female', 'LE80', 'LE80Male', 'LE80Female', 'InfantDeaths', 'IMR',\n",
       "       'LBsurvivingAge1', 'Under5Deaths', 'Q5', 'Q0040', 'Q0040Male',\n",
       "       'Q0040Female', 'Q0060', 'Q0060Male', 'Q0060Female', 'Q1550',\n",
       "       'Q1550Male', 'Q1550Female', 'Q1560', 'Q1560Male', 'Q1560Female',\n",
       "       'NetMigrations', 'CNMR'],\n",
       "      dtype='object')"
      ]
     },
     "execution_count": 3,
     "metadata": {},
     "output_type": "execute_result"
    }
   ],
   "source": [
    "df.columns"
   ]
  },
  {
   "cell_type": "markdown",
   "metadata": {},
   "source": [
    "Columns of interest TPopulation1Jan, Location, LocTypeName"
   ]
  },
  {
   "cell_type": "code",
   "execution_count": 4,
   "metadata": {},
   "outputs": [
    {
     "data": {
      "text/plain": [
       "array(['World', 'SDG region', 'Development group', 'Income group',\n",
       "       'Geographic region', 'Subregion', 'Country/Area'], dtype=object)"
      ]
     },
     "execution_count": 4,
     "metadata": {},
     "output_type": "execute_result"
    }
   ],
   "source": [
    "df.LocTypeName.unique()"
   ]
  },
  {
   "cell_type": "markdown",
   "metadata": {},
   "source": [
    "Lets focus on stats for `Country/Area`"
   ]
  },
  {
   "cell_type": "code",
   "execution_count": 3,
   "metadata": {},
   "outputs": [],
   "source": [
    "df2 = df.loc[df.LocTypeName=='Country/Area']"
   ]
  },
  {
   "cell_type": "code",
   "execution_count": 6,
   "metadata": {},
   "outputs": [
    {
     "data": {
      "text/plain": [
       "array(['Burundi', 'Comoros', 'Djibouti', 'Eritrea', 'Ethiopia', 'Kenya',\n",
       "       'Madagascar', 'Malawi', 'Mauritius', 'Mayotte', 'Mozambique',\n",
       "       'Réunion', 'Rwanda', 'Seychelles', 'Somalia', 'South Sudan',\n",
       "       'Uganda', 'United Republic of Tanzania', 'Zambia', 'Zimbabwe',\n",
       "       'Angola', 'Cameroon', 'Central African Republic', 'Chad', 'Congo',\n",
       "       'Democratic Republic of the Congo', 'Equatorial Guinea', 'Gabon',\n",
       "       'Sao Tome and Principe', 'Algeria', 'Egypt', 'Libya', 'Morocco',\n",
       "       'Sudan', 'Tunisia', 'Western Sahara', 'Botswana', 'Eswatini',\n",
       "       'Lesotho', 'Namibia', 'South Africa', 'Benin', 'Burkina Faso',\n",
       "       'Cabo Verde', \"Côte d'Ivoire\", 'Gambia', 'Ghana', 'Guinea',\n",
       "       'Guinea-Bissau', 'Liberia', 'Mali', 'Mauritania', 'Niger',\n",
       "       'Nigeria', 'Saint Helena', 'Senegal', 'Sierra Leone', 'Togo',\n",
       "       'Kazakhstan', 'Kyrgyzstan', 'Tajikistan', 'Turkmenistan',\n",
       "       'Uzbekistan', 'China', 'China, Hong Kong SAR', 'China, Macao SAR',\n",
       "       'China, Taiwan Province of China',\n",
       "       \"Dem. People's Republic of Korea\", 'Japan', 'Mongolia',\n",
       "       'Republic of Korea', 'Afghanistan', 'Bangladesh', 'Bhutan',\n",
       "       'India', 'Iran (Islamic Republic of)', 'Maldives', 'Nepal',\n",
       "       'Pakistan', 'Sri Lanka', 'Brunei Darussalam', 'Cambodia',\n",
       "       'Indonesia', \"Lao People's Democratic Republic\", 'Malaysia',\n",
       "       'Myanmar', 'Philippines', 'Singapore', 'Thailand', 'Timor-Leste',\n",
       "       'Viet Nam', 'Armenia', 'Azerbaijan', 'Bahrain', 'Cyprus',\n",
       "       'Georgia', 'Iraq', 'Israel', 'Jordan', 'Kuwait', 'Lebanon', 'Oman',\n",
       "       'Qatar', 'Saudi Arabia', 'State of Palestine',\n",
       "       'Syrian Arab Republic', 'Türkiye', 'United Arab Emirates', 'Yemen',\n",
       "       'Belarus', 'Bulgaria', 'Czechia', 'Hungary', 'Poland',\n",
       "       'Republic of Moldova', 'Romania', 'Russian Federation', 'Slovakia',\n",
       "       'Ukraine', 'Denmark', 'Estonia', 'Faroe Islands', 'Finland',\n",
       "       'Guernsey', 'Iceland', 'Ireland', 'Isle of Man', 'Jersey',\n",
       "       'Latvia', 'Lithuania', 'Norway', 'Sweden', 'United Kingdom',\n",
       "       'Albania', 'Andorra', 'Bosnia and Herzegovina', 'Croatia',\n",
       "       'Gibraltar', 'Greece', 'Holy See', 'Italy',\n",
       "       'Kosovo (under UNSC res. 1244)', 'Malta', 'Montenegro',\n",
       "       'North Macedonia', 'Portugal', 'San Marino', 'Serbia', 'Slovenia',\n",
       "       'Spain', 'Austria', 'Belgium', 'France', 'Germany',\n",
       "       'Liechtenstein', 'Luxembourg', 'Monaco', 'Netherlands',\n",
       "       'Switzerland', 'Anguilla', 'Antigua and Barbuda', 'Aruba',\n",
       "       'Bahamas', 'Barbados', 'Bonaire, Sint Eustatius and Saba',\n",
       "       'British Virgin Islands', 'Cayman Islands', 'Cuba', 'Curaçao',\n",
       "       'Dominica', 'Dominican Republic', 'Grenada', 'Guadeloupe', 'Haiti',\n",
       "       'Jamaica', 'Martinique', 'Montserrat', 'Puerto Rico',\n",
       "       'Saint Barthélemy', 'Saint Kitts and Nevis', 'Saint Lucia',\n",
       "       'Saint Martin (French part)', 'Saint Vincent and the Grenadines',\n",
       "       'Sint Maarten (Dutch part)', 'Trinidad and Tobago',\n",
       "       'Turks and Caicos Islands', 'United States Virgin Islands',\n",
       "       'Belize', 'Costa Rica', 'El Salvador', 'Guatemala', 'Honduras',\n",
       "       'Mexico', 'Nicaragua', 'Panama', 'Argentina',\n",
       "       'Bolivia (Plurinational State of)', 'Brazil', 'Chile', 'Colombia',\n",
       "       'Ecuador', 'Falkland Islands (Malvinas)', 'French Guiana',\n",
       "       'Guyana', 'Paraguay', 'Peru', 'Suriname', 'Uruguay',\n",
       "       'Venezuela (Bolivarian Republic of)', 'Bermuda', 'Canada',\n",
       "       'Greenland', 'Saint Pierre and Miquelon',\n",
       "       'United States of America', 'Australia', 'New Zealand', 'Fiji',\n",
       "       'New Caledonia', 'Papua New Guinea', 'Solomon Islands', 'Vanuatu',\n",
       "       'Guam', 'Kiribati', 'Marshall Islands',\n",
       "       'Micronesia (Fed. States of)', 'Nauru', 'Northern Mariana Islands',\n",
       "       'Palau', 'American Samoa', 'Cook Islands', 'French Polynesia',\n",
       "       'Niue', 'Samoa', 'Tokelau', 'Tonga', 'Tuvalu',\n",
       "       'Wallis and Futuna Islands'], dtype=object)"
      ]
     },
     "execution_count": 6,
     "metadata": {},
     "output_type": "execute_result"
    }
   ],
   "source": [
    "df2.Location.unique()"
   ]
  },
  {
   "cell_type": "code",
   "execution_count": 7,
   "metadata": {},
   "outputs": [
    {
     "data": {
      "text/plain": [
       "(1950, 2101)"
      ]
     },
     "execution_count": 7,
     "metadata": {},
     "output_type": "execute_result"
    }
   ],
   "source": [
    "df2.Time.iat[0], df2.Time.iat[-1]"
   ]
  },
  {
   "cell_type": "code",
   "execution_count": 8,
   "metadata": {},
   "outputs": [
    {
     "data": {
      "text/plain": [
       "array([1950, 1951, 1952, 1953, 1954, 1955, 1956, 1957, 1958, 1959, 1960,\n",
       "       1961, 1962, 1963, 1964, 1965, 1966, 1967, 1968, 1969, 1970, 1971,\n",
       "       1972, 1973, 1974, 1975, 1976, 1977, 1978, 1979, 1980, 1981, 1982,\n",
       "       1983, 1984, 1985, 1986, 1987, 1988, 1989, 1990, 1991, 1992, 1993,\n",
       "       1994, 1995, 1996, 1997, 1998, 1999, 2000, 2001, 2002, 2003, 2004,\n",
       "       2005, 2006, 2007, 2008, 2009, 2010, 2011, 2012, 2013, 2014, 2015,\n",
       "       2016, 2017, 2018, 2019, 2020, 2021, 2022, 2023, 2024, 2025, 2026,\n",
       "       2027, 2028, 2029, 2030, 2031, 2032, 2033, 2034, 2035, 2036, 2037,\n",
       "       2038, 2039, 2040, 2041, 2042, 2043, 2044, 2045, 2046, 2047, 2048,\n",
       "       2049, 2050, 2051, 2052, 2053, 2054, 2055, 2056, 2057, 2058, 2059,\n",
       "       2060, 2061, 2062, 2063, 2064, 2065, 2066, 2067, 2068, 2069, 2070,\n",
       "       2071, 2072, 2073, 2074, 2075, 2076, 2077, 2078, 2079, 2080, 2081,\n",
       "       2082, 2083, 2084, 2085, 2086, 2087, 2088, 2089, 2090, 2091, 2092,\n",
       "       2093, 2094, 2095, 2096, 2097, 2098, 2099, 2100, 2101], dtype=int64)"
      ]
     },
     "execution_count": 8,
     "metadata": {},
     "output_type": "execute_result"
    }
   ],
   "source": [
    "df2.Time.unique()"
   ]
  },
  {
   "cell_type": "markdown",
   "metadata": {},
   "source": [
    "Lets look at the population onn the first year `1950`"
   ]
  },
  {
   "cell_type": "code",
   "execution_count": 9,
   "metadata": {},
   "outputs": [],
   "source": [
    "fig, ax = plt.subplots()\n",
    "\n",
    "def topPopulations(year, present_year):\n",
    "    n=10\n",
    "    ax.clear()\n",
    "    ax.set_title(f'{\"Prediction: \" if present_year < year else \"\"}{year}')\n",
    "    sns.barplot(ax=ax, data=df2.loc[df2.Time==year, ['TPopulation1Jan','Location']].sort_values(by='TPopulation1Jan', ascending=False).iloc[:n], x='TPopulation1Jan', y='Location')\n",
    "    fig.tight_layout()\n",
    "\n",
    "ani = anime.FuncAnimation(\n",
    "    fig=fig,\n",
    "    func=topPopulations,\n",
    "    frames=df2.Time.unique(),\n",
    "    fargs=(2023,)\n",
    ")"
   ]
  },
  {
   "cell_type": "code",
   "execution_count": 10,
   "metadata": {},
   "outputs": [
    {
     "data": {
      "application/vnd.jupyter.widget-view+json": {
       "model_id": "d9b1a7d6e4bc4451b96defd0a2f500bf",
       "version_major": 2,
       "version_minor": 0
      },
      "text/plain": [
       "  0%|          | 0/152 [00:00<?, ?it/s]"
      ]
     },
     "metadata": {},
     "output_type": "display_data"
    }
   ],
   "source": [
    "from tqdm.notebook import tqdm\n",
    "ani = anime.FuncAnimation(\n",
    "    fig=fig,\n",
    "    func=topPopulations,\n",
    "    frames=tqdm(df2.Time.unique()),\n",
    "    fargs=(2023,),\n",
    "    interval=200\n",
    ")\n",
    "ani.save('population.mp4')"
   ]
  }
 ],
 "metadata": {
  "kernelspec": {
   "display_name": "base",
   "language": "python",
   "name": "python3"
  },
  "language_info": {
   "codemirror_mode": {
    "name": "ipython",
    "version": 3
   },
   "file_extension": ".py",
   "mimetype": "text/x-python",
   "name": "python",
   "nbconvert_exporter": "python",
   "pygments_lexer": "ipython3",
   "version": "3.11.6"
  }
 },
 "nbformat": 4,
 "nbformat_minor": 2
}
