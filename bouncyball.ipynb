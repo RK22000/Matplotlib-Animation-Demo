{
 "cells": [
  {
   "cell_type": "markdown",
   "metadata": {},
   "source": [
    "# Simple bouncy ball\n",
    "This demo is to show how to use the blit option in `FuncAnimation`"
   ]
  },
  {
   "cell_type": "code",
   "execution_count": 1,
   "metadata": {},
   "outputs": [],
   "source": [
    "# Start of by importing some of the basic stuff\n",
    "\n",
    "# %matplotlib widget\n",
    "%matplotlib qt\n",
    "import matplotlib.pyplot as plt\n",
    "import seaborn as sns\n",
    "import matplotlib.animation as anime\n",
    "import pandas as pd\n",
    "import numpy as np\n",
    "from matplotlib.axes import Axes"
   ]
  },
  {
   "cell_type": "code",
   "execution_count": 15,
   "metadata": {},
   "outputs": [],
   "source": [
    "fig, ax = plt.subplots()\n",
    "ax: Axes = ax  # I'm just doing this so my intellisense will realize that ax is a Axes object\n",
    "                        # Thats really helpful as it it'll now know how to autocomplete the objects functions\n",
    "xlim = (0,100)\n",
    "ylim = (0,100)\n",
    "ax.set_xlim(*xlim)\n",
    "ax.set_ylim(*ylim)\n",
    "\n",
    "pos = np.array([50.0,50.0])\n",
    "vel = np.random.random_sample(2)\n",
    "acc = np.array([0.0, -1.0])\n",
    "\n",
    "scatter_artist = ax.scatter(*pos)\n",
    "time_text = ax.text(50, 90, \"Some Text\", ha='center')\n",
    "\n",
    "def time_step(i):\n",
    "    global pos, vel, acc\n",
    "    pos += vel\n",
    "    bounce=False\n",
    "    if pos[0] < xlim[0] or pos[0] > xlim[1]:\n",
    "        vel[0]*=-1\n",
    "        bounce=True\n",
    "    if pos[1] < ylim[0] or pos[1] > ylim[1]:\n",
    "        vel[1]*=-1\n",
    "        bounce=True\n",
    "    if not bounce:\n",
    "        vel += acc\n",
    "    scatter_artist.set_offsets(pos)\n",
    "    time_text.set_text(f'Frame: {i}')\n",
    "    return [scatter_artist, time_text]\n",
    "\n",
    "ani = anime.FuncAnimation(\n",
    "    fig=fig,\n",
    "    func=time_step,\n",
    "    frames=1000,\n",
    "    interval=1,\n",
    "    # blit=True\n",
    ")\n",
    "plt.show()"
   ]
  },
  {
   "cell_type": "markdown",
   "metadata": {},
   "source": [
    "Try running this with and without blit"
   ]
  },
  {
   "cell_type": "code",
   "execution_count": null,
   "metadata": {},
   "outputs": [],
   "source": []
  }
 ],
 "metadata": {
  "kernelspec": {
   "display_name": "base",
   "language": "python",
   "name": "python3"
  },
  "language_info": {
   "codemirror_mode": {
    "name": "ipython",
    "version": 3
   },
   "file_extension": ".py",
   "mimetype": "text/x-python",
   "name": "python",
   "nbconvert_exporter": "python",
   "pygments_lexer": "ipython3",
   "version": "3.11.6"
  }
 },
 "nbformat": 4,
 "nbformat_minor": 2
}
